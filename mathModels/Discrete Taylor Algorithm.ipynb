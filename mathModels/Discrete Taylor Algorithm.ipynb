{
 "cells": [
  {
   "cell_type": "code",
   "execution_count": null,
   "metadata": {},
   "outputs": [],
   "source": [
    "'''\n",
    "                        DISCRETE TAYLOR ALGORITHM\n",
    "                        \n",
    "    TAYLOR EXPANSION is used for extrapolating continuous functions.\n",
    "    It involves multiple degrees of derivative of a function, which is not applicable in discrete case.\n",
    "    So, while transforming TAYLOR EXPANSION to our Dataset, we'll have to make certain approximations in the formula.\n",
    "    \n",
    "    Therefore, considering f(a) to be the latest data, and f(a-d) being the second latest entry and so on,\n",
    "    we obtain a Pascal triangle like coefficients. \n",
    "    \n",
    "    Using this approximation, we obtain a linear-like prediction for the given dataset.\n",
    "    Although it might be less intuitive, it's not invalid (as opposed to some other prediction models).\n",
    "    \n",
    "    This algorithm needs to be optimized further, however, we can follow this w/o a doubt.\n",
    "    \n",
    "    The formula is sent as a separate attachment.\n",
    "'''"
   ]
  },
  {
   "cell_type": "code",
   "execution_count": 4,
   "metadata": {},
   "outputs": [
    {
     "name": "stdout",
     "output_type": "stream",
     "text": [
      "Extrapolation k number of days = 20\n",
      "25.458806152547307\n",
      "25.34164792117609\n",
      "25.246674395945536\n",
      "25.15421623409385\n",
      "25.061815941461372\n",
      "24.96938929457838\n",
      "24.87695919964354\n",
      "24.784529157841998\n",
      "24.69209917324951\n",
      "24.599669193338233\n",
      "24.50723921299914\n",
      "24.414809232547604\n",
      "24.322379252091956\n",
      "24.22994927163765\n",
      "24.137519291183537\n",
      "24.045089310729423\n",
      "23.95265933027531\n",
      "23.8602293498212\n",
      "23.76779936936709\n",
      "23.67536938891298\n"
     ]
    },
    {
     "data": {
      "image/png": "[encoded data removed]",
      "text/plain": [
       "<Figure size 432x288 with 1 Axes>"
      ]
     },
     "metadata": {
      "needs_background": "light"
     },
     "output_type": "display_data"
    }
   ],
   "source": [
    "'''DISCRETE TAYLOR METHOD- Verification'''\n",
    "import math\n",
    "import matplotlib.pyplot as plt\n",
    "\n",
    "#discrete taylor for daily cohort.\n",
    "\n",
    "'''\n",
    "    ##WE HAVE THESE VALUES\n",
    "    \n",
    "    #f = the function array\n",
    "    #a = the latest parameter value\n",
    "    #x = the unknown predictable parameter, denoted in terms of h and a. \n",
    "    #h = x-a, where h is 1 day. we predict for the next day, and move forward.\n",
    "    #d = the differential change in x, by default, d=1, {meaning 1 day}\n",
    "    #n = the degree of approximation, here, n varies with a. \n",
    "         as per Taylor_Disc function, n is the number in the range(#) of j loop\n",
    "         \n",
    "    #PascalSlab is a function that provides the Slab of the Pascal triangle that could be used as coefficient array.\n",
    "    \n",
    "'''\n",
    "\n",
    "def PascalSlab(n):\n",
    "    if n==0:\n",
    "        return [1]\n",
    "    elif n==1:\n",
    "        return [1,-1]\n",
    "    else:\n",
    "        Slab=[1,1]\n",
    "        for i in range(2,n+1):\n",
    "            Slab.append(0)\n",
    "            RSlab=Slab[::-1]\n",
    "            for j in range(len(Slab)):\n",
    "                Slab[j]=Slab[j]+RSlab[j]\n",
    "        for i in range(len(Slab)):\n",
    "                Slab[i]*=(-1)**i\n",
    "        return Slab\n",
    "    \n",
    "def Taylor_Disc(f):\n",
    "    d=1\n",
    "    h=1\n",
    "            #a is  today#\n",
    "    a=len(f)-1\n",
    "            #f(a) :=: f[a]\n",
    "    S=0\n",
    "\n",
    "    for j in range(a):\n",
    "        Slab=PascalSlab(j)\n",
    "        RSlab=Slab[::-1]\n",
    "        S1=0\n",
    "        for k in range(len(Slab)):\n",
    "            S1+=f[a-(k)*d]*RSlab[k]\n",
    "        S1*=((h/d)**(j))*1/(math.factorial(j))\n",
    "        S+=S1*(-1)**j\n",
    "    return S\n",
    "    \n",
    "    \n",
    "    #f dataset retreived from GA- user retention for 12 days Jun-Jul\n",
    "    \n",
    "f=[100.00,44.53,36.81,34.01,32.51,31.11,29.92,29.24,28.28,27.06,26.75,26.15,25.68]\n",
    "k=int(input(\"Extrapolation k number of days = \"))\n",
    "L=len(f)\n",
    "plt.plot(f,'-o')\n",
    "\n",
    "    #change the number in the range(#), to obtain predictions for so many days\n",
    "for i in range(k):\n",
    "    Fnew=Taylor_Disc(f)\n",
    "    print(Fnew)\n",
    "    f.append(Fnew)\n",
    "    plt.plot(L+i,Fnew,'r*')\n",
    "\n",
    "plt.show()"
   ]
  },
  {
   "cell_type": "code",
   "execution_count": 2,
   "metadata": {},
   "outputs": [
    {
     "name": "stdout",
     "output_type": "stream",
     "text": [
      "24.50723921299914\n",
      "24.414809232547604\n",
      "24.322379252091956\n",
      "24.22994927163765\n",
      "24.137519291183537\n",
      "24.045089310729423\n",
      "23.95265933027531\n",
      "23.8602293498212\n",
      "23.76779936936709\n",
      "23.67536938891298\n"
     ]
    },
    {
     "data": {
      "image/png": "[encoded data removed]",
      "text/plain": [
       "<Figure size 432x288 with 1 Axes>"
      ]
     },
     "metadata": {
      "needs_background": "light"
     },
     "output_type": "display_data"
    }
   ],
   "source": [
    "for i in range(10):\n",
    "    Fnew=Taylor_Disc(f)\n",
    "    print(Fnew)\n",
    "    f.append(Fnew)\n",
    "    plt.plot(L+i,Fnew,'r*')\n",
    "plt.show()"
   ]
  },
  {
   "cell_type": "code",
   "execution_count": 2,
   "metadata": {},
   "outputs": [
    {
     "data": {
      "image/png": "[encoded data removed]",
      "text/plain": [
       "<Figure size 432x288 with 1 Axes>"
      ]
     },
     "metadata": {
      "needs_background": "light"
     },
     "output_type": "display_data"
    }
   ],
   "source": [
    "import matplotlib.pyplot as plt\n",
    "\n",
    "sq=[i**2 for i in range(10)]\n",
    "plt.plot(sq)\n",
    "plt.show()"
   ]
  }
 ],
 "metadata": {
  "kernelspec": {
   "display_name": "Python 3",
   "language": "python",
   "name": "python3"
  },
  "language_info": {
   "codemirror_mode": {
    "name": "ipython",
    "version": 3
   },
   "file_extension": ".py",
   "mimetype": "text/x-python",
   "name": "python",
   "nbconvert_exporter": "python",
   "pygments_lexer": "ipython3",
   "version": "3.7.3"
  }
 },
 "nbformat": 4,
 "nbformat_minor": 2
}
