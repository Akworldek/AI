{
 "cells": [
  {
   "cell_type": "markdown",
   "metadata": {},
   "source": [
    "$\\bf{Word\\ Prediction}$"
   ]
  },
  {
   "cell_type": "code",
   "execution_count": 1,
   "metadata": {},
   "outputs": [
    {
     "name": "stdout",
     "output_type": "stream",
     "text": [
      "Initiate Word Prediction? (Y/N): y\n",
      "Note: Enter ~ to Abort\n",
      "Word: from\n",
      "Next word: the\n",
      "Word: where\n",
      "Next word: the\n",
      "Word: how\n",
      "Next word: to\n",
      "Word: to\n",
      "Next word: the\n",
      "Word: you\n",
      "Next word: have\n",
      "Word: I\n",
      "Next word: have\n",
      "Word: i\n",
      "Next word: k\n",
      "Word: k\n",
      "Next word: 1\n",
      "Word: 1\n",
      "Next word: in\n",
      "Word: in\n",
      "Next word: the\n",
      "Word: have\n",
      "Next word: been\n",
      "Word: your\n",
      "Next word: excellency\n",
      "Word: are\n",
      "Next word: the\n",
      "Word: excellency\n",
      "Next word: \"\n",
      "Word: \"\n",
      "Next word: said\n",
      "Word: said\n",
      "Next word: the\n",
      "Word: Sherlock\n",
      "Next word: Holmes\n",
      "Word: ~\n",
      "Thanks, have a Nice day.\n"
     ]
    }
   ],
   "source": [
    "#Word Prediction\n",
    "\n",
    "import math\n",
    "import numpy as np\n",
    "import pandas as pd\n",
    "import re\n",
    "from collections import Counter\n",
    "from sys import getsizeof\n",
    "#import Tkinter\n",
    "#import tkMessageBox\n",
    "\n",
    "\n",
    "'''\n",
    "import pyspark\n",
    "from pyspark import SparkContext\n",
    "from pyspark.sql import SparkSession'''\n",
    "\n",
    "\n",
    "#sc= SparkContext()\n",
    "\n",
    "'''top = Tkinter.Tk()\n",
    "\n",
    "def helloCallBack():\n",
    "   tkMessageBox.showinfo( \"Hello Python\", \"Hello World\")\n",
    "\n",
    "B = Tkinter.Button(top, text =\"Hello\", command = helloCallBack)\n",
    "\n",
    "B.pack()\n",
    "top.mainloop()'''\n",
    "\n",
    "\n",
    "\n",
    "story=open(\"./big.txt\",'r')\n",
    "sentence=story.read()\n",
    "words=re.split(r'[;,\\n\\s]\\s*',sentence)\n",
    "endOfSentence=len(words)\n",
    "prevWord=words[:-1]\n",
    "wordAfter=words[1:]\n",
    "\n",
    "uniqueWords=set(words)\n",
    "wordDict={}\n",
    "\n",
    "for _ in uniqueWords:\n",
    "    wordDict[_]=[]\n",
    "\n",
    "index=0\n",
    "\n",
    "for _ in prevWord:\n",
    "    wordDict[_].append(wordAfter[index])\n",
    "    index+=1\n",
    "\n",
    "preDict={}\n",
    "\n",
    "for _ in wordDict:\n",
    "    preDict[_]=[wor for wor,c in Counter(wordDict[_]).most_common()]\n",
    "\n",
    "\n",
    "#Prediction\n",
    "initiate=input(\"Initiate Word Prediction? (Y/N): \")\n",
    "\n",
    "if initiate.upper()=='Y':\n",
    "    print(\"Note: Enter ~ to Abort\")\n",
    "    typingWord=input(\"Word: \")\n",
    "    while typingWord!='~':\n",
    "        try:\n",
    "            print(\"Next word: %s\"%preDict[typingWord][0])\n",
    "        except KeyError:\n",
    "            print(\"%s is not logged in our Database\"%typingWord)\n",
    "        typingWord=input(\"Word: \")\n",
    "    print(\"Thanks, have a Nice day.\")\n",
    "elif initiate=='N':\n",
    "    print(\"Wow! This is a buzzkill \\nSee ya never, d**khead.\")\n",
    "else:\n",
    "    print(\"You really messed up there, didn't ya?\")"
   ]
  },
  {
   "cell_type": "markdown",
   "metadata": {},
   "source": [
    "Size of Prediction database"
   ]
  },
  {
   "cell_type": "code",
   "execution_count": 173,
   "metadata": {},
   "outputs": [
    {
     "name": "stdout",
     "output_type": "stream",
     "text": [
      "2.50 MB\n"
     ]
    }
   ],
   "source": [
    "#size PreDict\n",
    "\n",
    "prefix=['','k','M','G','T']\n",
    "sizeofp=getsizeof(preDict)\n",
    "i=0\n",
    "#prefix=prefices[i]\n",
    "while sizeofp>1024:\n",
    "    i+=1\n",
    "    sizeofp/=1024\n",
    "print(\"%.2f %sB\"%(sizeofp,prefix[i]))"
   ]
  }
 ],
 "metadata": {
  "kernelspec": {
   "display_name": "Python 3",
   "language": "python",
   "name": "python3"
  },
  "language_info": {
   "codemirror_mode": {
    "name": "ipython",
    "version": 3
   },
   "file_extension": ".py",
   "mimetype": "text/x-python",
   "name": "python",
   "nbconvert_exporter": "python",
   "pygments_lexer": "ipython3",
   "version": "3.7.3"
  }
 },
 "nbformat": 4,
 "nbformat_minor": 2
}
