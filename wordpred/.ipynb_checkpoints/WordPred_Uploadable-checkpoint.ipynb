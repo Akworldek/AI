{
 "cells": [
  {
   "cell_type": "markdown",
   "metadata": {},
   "source": [
    "$\\bf{Word\\ Prediction}$"
   ]
  },
  {
   "cell_type": "code",
   "execution_count": 9,
   "metadata": {},
   "outputs": [
    {
     "name": "stdout",
     "output_type": "stream",
     "text": [
      "Initiate Word Prediction? (Y/N): y\n",
      "Note: Enter ~ to Abort\n",
      "Word: where\n",
      "Next word: are\n",
      "Word: i\n",
      "i is not logged in our Database\n",
      "Word: I\n",
      "Next word: was\n",
      "Word: mosaic\n",
      "Next word: was\n",
      "Word: was\n",
      "Next word: a\n",
      "Word: a\n",
      "Next word: part\n",
      "Word: part\n",
      "Next word: of\n",
      "Word: of\n",
      "Next word: the\n",
      "Word: the\n",
      "Next word: rest\n",
      "Word: rest\n",
      "Next word: of\n",
      "Word: of\n",
      "Next word: the\n",
      "Word: the\n",
      "Next word: rest\n",
      "Word: \n",
      " is not logged in our Database\n",
      "Word: N\n",
      "N is not logged in our Database\n",
      "Word: ~\n",
      "Thanks, have a Nice day.\n"
     ]
    }
   ],
   "source": [
    "#Word Prediction\n",
    "\n",
    "import math\n",
    "import numpy as np\n",
    "import pandas as pd\n",
    "import re\n",
    "from collections import Counter\n",
    "from sys import getsizeof\n",
    "\n",
    "\n",
    "story=open(\"./big.txt\",'r')\n",
    "sentence=story.read()\n",
    "words=re.split(r'[;,\\n\\s]\\s*',sentence)\n",
    "endOfSentence=len(words)\n",
    "prevWord=words[:-1]\n",
    "wordAfter=words[1:]\n",
    "\n",
    "uniqueWords=set(words)\n",
    "wordDict={}\n",
    "\n",
    "for _ in uniqueWords:\n",
    "    wordDict[_]=[]\n",
    "\n",
    "index=0\n",
    "\n",
    "for _ in prevWord:\n",
    "    wordDict[_].append(wordAfter[index])\n",
    "    index+=1\n",
    "\n",
    "preDict={}\n",
    "\n",
    "for _ in wordDict:\n",
    "    preDict[_]=[wor for wor,c in Counter(wordDict[_]).most_common()]\n",
    "\n",
    "\n",
    "#Prediction\n",
    "initiate=input(\"Initiate Word Prediction? (Y/N): \")\n",
    "\n",
    "if initiate.upper()=='Y':\n",
    "    print(\"Note: Enter ~ to Abort\")\n",
    "    typingWord=input(\"Word: \")\n",
    "    while typingWord!='~':\n",
    "        try:\n",
    "            print(\"Next word: %s\"%preDict[typingWord][0])\n",
    "        except KeyError:\n",
    "            print(\"%s is not logged in our Database\"%typingWord)\n",
    "        typingWord=input(\"Word: \")\n",
    "    print(\"Thanks, have a Nice day.\")\n",
    "elif initiate=='N':\n",
    "    print(\"Hmm.. No problem. :)\")\n",
    "else:\n",
    "    print(\"Please Enter either Y or N\")"
   ]
  },
  {
   "cell_type": "markdown",
   "metadata": {},
   "source": [
    "Size of Prediction database"
   ]
  },
  {
   "cell_type": "code",
   "execution_count": 10,
   "metadata": {},
   "outputs": [
    {
     "name": "stdout",
     "output_type": "stream",
     "text": [
      "72.09 kB\n"
     ]
    }
   ],
   "source": [
    "#size PreDict\n",
    "\n",
    "prefix=['','k','M','G','T']\n",
    "sizeofp=getsizeof(preDict)\n",
    "i=0\n",
    "#prefix=prefices[i]\n",
    "while sizeofp>1024:\n",
    "    i+=1\n",
    "    sizeofp/=1024\n",
    "print(\"%.2f %sB\"%(sizeofp,prefix[i]))"
   ]
  },
  {
   "cell_type": "code",
   "execution_count": 7,
   "metadata": {},
   "outputs": [],
   "source": [
    "story=open(\"./big.txt\",'r')"
   ]
  },
  {
   "cell_type": "code",
   "execution_count": 8,
   "metadata": {},
   "outputs": [
    {
     "data": {
      "text/plain": [
       "\"Grey sounds of crows and hounds, solidarity walks in beige;\\nIn dim, dull and dusty grounds, I witness a brighter hue\\nProtruding in the rusty flakes, â€™twas a stone of Turquoise blue.\\nNo ruse with higher stakes, none ownership or orphanage,\\nI seize it with mercy and desire, only to flourish my image.\\nI gaze in frequents and admire wondering what disastrous rue\\nCaused an enduring fissure, upon which the stone grew\\nUnder hot fumes and pressure, into a cosmic amaze!\\nIn my travels and trades, I realized I owned a Turquoise\\nUnique among all shades: one-of-a-kind for its scar\\n\\nThat wove haunting stories of ruins and rejoice-\\nRegaining its ever lost glories for the pride of its possessor.\\n\\nI hold my hand empty, reliving the entire song and noise,\\nWith stones plenty, but the Turquoise only in my memoir.\\n\\nNever be, speak, hear, see\\nFor whoever you might be,\\nYour ever-changing phases,\\nAnd your classified identity.\\n\\nFantasy, or Fantastic\\nUnreal, or Prosthetic\\nYour anger and pride erupts\\nYour fatal destiny.\\n\\nWell-are, well-wished, still\\nYou a non-consumer of time.\\nNone of those milestones, at crisis\\nWould replace a donorâ€™s dime.\\n\\nYou mightâ€™ve lived through\\nThe Timeline of Movements,\\nTo witness the imperceptives perceive\\nLike a monotonous routine.\\n\\nYet, Whyâ€™d you shout for the rest,\\nTo split the Earth into two?\\nWhyâ€™dnâ€™t you listen to the\\nShouts around you?\\n\\nFreeze â€™em Shouts!\\nBurn â€™em Shouts!\\nBut, Never see, hear, speak, be,\\nYou ever-changing identity.\\n\\nI killed a man standing behind me\\nlooked him in the eye until\\nhe stopped looking.\\n\\nhe looked at me well. he knew me.\\nhe knew I was gonna kill him,\\nand he stood behind me at will.\\nhe smiled at me before I stabbed,\\nI smiled at him as he suffered.\\n\\nhe was me, that wanted a sacrifice,\\nso that I could stay.\\n\\nnow, I just smile thinking about him-\\nhe never died. I am he.\\n\\nLooking for a Life Partner in Khed?\\nShe was asked to leave the airport.\\n\\n25 Richest Men alive, and their wivesâ€¦\\nSilver has out performed\\nIts yellow counterpart this year.\\nDiesel remains unchanged.\\nThey said the file was closed for 100 years.\\nThis file must contain information about\\nLast days of Bose.\\n\\nTerm Plan that returns premiums &\\nProtects till the age 85.\\nAre you above 35 years? Going bald?\\n\\nPower up your productivity.\\nSilver is likely to continue its out-performance.\\n\\nIt was cold when I opened my eyes.\\nDark environment- with a glimpse of\\nOrange incandescent bulb lit at a corner.\\nThe other two were fast asleep,\\nAlmost stagnant,-\\nAs if Time was frozen;\\nThe neutrinos were floating,\\nGazing at the victim, who is\\nSuffocated by his own mucus- Me.\\n\\nIt seemed like the cough was\\nSuffocating my trachea.\\nConstant and periodic coughs that\\nTrembled my inner epithelium,\\nProviding the fellow cells, an\\nUnruly ride that oscillated\\nThe entire body, and the bed.\\n\\nThe clock read 1:32 AM.\\nThe rebounds of the mucus\\nErupting in my pharynx,\\nReplicating the Fire Corpuscles\\nIn the rocky dynamic pipes of Fujiyama.\\n\\nThe Death is nearing thought I\\nAnd Iâ€™m obligated to attend him.\\nRecalling my dream, I laid.\\nA set of numbers- 2.5, 2.75, 3.5.\\nCircling about, and reappearing,\\nPeriodically, in the same order.\\n\\nMight have thought it was irrelevant.\\nBut, it was highly correlated with the cough.\\n2.5- the inner circulation of the Fundus\\nAfter a spicy meal;\\n2.75- a tiny turbulence of a tidal wave\\nOn the day of waning;\\n3.5- an exorbitant outburst of the lava\\nThrough the cough-seized vents.\\n\\nI remember myself pleading for 3.5\\nTo not occur.\\nI remember myself pounding over\\nThe bed, for every quake.\\nI remember myself praying for the\\nDeath to not attend.\\n\\nOnce there was a boy-\\nStill is, I guessâ€¦\\nDrinking Strawberry juice\\nFrom a Tetra Pak.\\nEmptying the pack,\\nHe paced himself to search for\\nA trash canâ€¦ He found it!\\nTwo, actually- Blue & Green.\\nMustâ€™ve been a dark night;\\nOr his colour-blindness;\\nOr sheer confusion;\\nThe kid dumped his pack\\nIn the Green canâ€¦\\n\\nFew days later, the green can\\nWas taken to transform into\\nManure.\\nEnzymes, Bacteria spread.\\nCovered, Composted and Constrained.\\n\\nLife formed around,\\nSoil continued layering,\\nThe Juice pack had nowhere to move\\nBut down.\\nAnd, it did.\\nDigging its way to breathe and freedom,\\nIt did. Go.\\nDown. Down. Down,\\nUntil it reached the gates of Hell.\\n\\nHellkeepers were busy that day,\\nDealing with the sinners of\\nPrejudice and Equivocation.\\nSo, Yamraja himself opened the\\nGates of Hell.\\nThe dirt covered Strawberry juice pack\\nLooked at him.\\n\\nYamraja smiled viciously.\\nBelieving this, a message from the further above,\\nHe commanded all the Hell warriors to\\nNegotiate a battle against Lord Indraâ€™s Heaven.\\n\\nOne of the Hell warriors,\\nA spy from Heaven informed\\nLord Indra that Yamaraja would\\nAmbush the Heaven.\\nWithout further introspection,\\nLord Indra set for an ambush against Yamaraja.\\n\\nThe Battle took place on the Earth-\\nThe living World,\\nDestroying many living.\\n\\nThe boy watched the battle,\\nDrinking Mango juice\\nFrom a Tetra Pak.\\nEmptying the pack,\\nHe paced himself to search for\\nA trash canâ€¦ He found it!\\nTwo, actually- Blue & Green.\\n\\nThe feuds between the factions of society,\\nBoth 2D and 3D,\\nAre sharp cracks in a\\nThin brittle Ice lake.\\nA raindrop is all it takes\\nTo break it, melt it, ripple it, and\\nFlood a far-off island.\\n\\nIt is dynamic, chaotic, and\\nA law of nature.\\n\\nIt is futile to try to seal the cracks.\\nMaybe, we should move out of the island.\\n\\nMy pee is darted to the loo\\nMy pee is darted to the loo\\n\\nIt creates a froth,\\nOf agony and digust,\\nAnd actual froth.\\n\\nI question the composition\\nOf my pee.\\nIs it because of the frothy beer?\\nDid I eat soap while bathing?\\n\\nMaybe my kidneys are impureâ€¦\\nToo much bile my liver produces,\\nMaybe, my liver is hyperactiveâ€¦\\nSo much food itâ€™s processing,\\nMaybe my stomach is ineffectiveâ€¦\\nHigh amounts of Junk Iâ€™m eating,\\nMaybe Junk foods are crapâ€¦\\nVery much imbalance in the nutrients,\\nMaybe the nutrients arenâ€™t well representedâ€¦\\nMany Many labels on food thatâ€™s consumed,\\nMaybe the Nature is trying to pull a prankâ€¦\\n\\nMy war is against Nature-\\nBut, Nature remains undefeated.\\n\\nCrap!\\n\\nOh, I gotta crap now!\\n\\nStrolling on a bright day, mine wasnâ€™t, I\\nNoticed a cart; unnoticeable, yet did blend-in,\\nAmongst the region of mediocrity, through which\\nThe stroll took me- minoring out my darkness, with edibles.\\n\\nNone of the carts grabbed the strollâ€™s attention, but one.\\nHaving exactly the same items on the cart, it called me,\\nShe called me. Her eyes, maybe.\\nHer forlorn face, maybe. Her Freckled cheeks, maybe.\\nThere were many voices, but noneâ€¦ And yet,\\nShe called.\\n\\nI went in- for an ice cream. Strawberry, I called her.\\nI wanted strawberry Ice Cream. She was a Strawberry.\\nI donâ€™t like strawberries!\\nI saw her scoop the ice-cream out; with her face\\nThat had given up. She smiled at people, a fake.\\nShe wasnâ€™t hiding anything.\\n\\nShe talked good, like the rest of the world.\\nShe worked fair, like the rest of the world.\\nBut, she made me unnotice the rest of the World.\\nMonths, Years, I visited. Seldom, yet.\\nI felt the presence hauntingly romantic. We never talked.\\n\\nYears later, I found the presence again. It was a gradual strike-\\nNot as spontaneous as Strawberryâ€¦ \\nHe wore a pink shirt. Everyday. Like a Salmon.\\nHe waved and wished.\\nWith a smile of innocence. We never talked.\\n\\nPink is the Presence, maybe. Innocence, maybe. \\nSmile, maybe. Kindness, maybe.\\nAll three of us are sailing in the same boat,\\nwithout realizing our Companions, maybe.\\nAll three of us, feel the same\\nStimulus at the same time, maybe.\\nI donâ€™t know. We donâ€™t know. We never will.  \\n\\nCan you count the white spots in this white sheet of paper?\\nCan you count the coloured spots in that colourful mosaic?\\nA few days back,\\nThe sheet of paper was loaded with colours,\\nAnd the mosaic was empty.\\n\\nThey wanted to erase/remove all the colours,\\nAnd revive the white sheet as it was before.\\n\\nNot the before when the sheet bore colours,\\nBut the before we do not remember.\\n\\nIt was told that the sheet was originally white. Told.\\nIt makes sense logically, since the paper is always sold in White.\\nNobody sells coloured sheets.\\n\\nDoes it always have to be bought to be obtained?\\n\\nWe mightâ€™ve gotten the sheet as a gift- A coloured sheet.\\nThey mightâ€™ve manufactured the sheet as coloured,\\nBecause, no dirt in this World can malign a coloured sheet.\\nWhereas, every dirt in this World can easily ruin a White.\\n\\nColoured sheet is beautiful, but White is pure: as it is told.\\nPure is White, a composition of seven colours-\\nWhose individual existence is impure!\\n\\nWhat sort of purity is a combination of all impure!\\n\\nEverything.\\nGlass is made of dirt.\\nDiamond is made of crap.\\nStar is made of gases we excrete.\\n\\nAll thatâ€™s pure is a product of impurity.\\nAnd they want to subtract the impurity for purity.\\n\\nha ha ha ha ha They do.\\n\\nErasing all the colours from the sheet of paper,\\nThey scrape-out everything the paper bore\\nTo bring back the white- the supposed originality.\\n\\nAll colours dumped to a corner. The white sheet is revived!\\nWith the remainder dump, they build a mosaic\\nTo commemorate the coloured sheet.\\n\\nCan you count the white spots in this white sheet of paper?\\nCan you count the coloured spots in that colourful mosaic?\\nYes. You can. They surely can.\\nThe white sheet doesnâ€™t appear white anymore.\\nitâ€™s either more white, or less white\\nThe coloured mosaic affects each one whoâ€™s\\nSensitive to each particular colour.\\nIn no time, the colours matter to us;\\nThe colours have become problematic-\\nEvery one has a colour of favour,\\nAnd, a colour of disfavour.\\n\\nSoon, each one of you would scrape-out\\nThe colour of your dislike.\\nAnd, the mosaic would be White, and, they call it original.\\nAnother mosaic, and another revolt for purity.\\n\\nThe monotony of existence amidst the mediocre community,\\nWhite spots on the White sheet, Colours in Coloured Mosaic-\\nThe spots are forced to stay where are supposed to,\\nA revolt against diversity.\\n\\nAnd, finally,\\nThey, You, shall scrape-out the white in the sheet,\\nAs it was in contact with other colours.\\nSheet is just a fiber dirt now,\\nAnd the Mosaic, ha ha, a relic.\\n\\nNo particle in Nature has any knowledge\\nOf what to do in isolation-\\nThe reason for isolation, as juvenile as it seems\\nHas either past or future consequences.\\nDonâ€™t all of our actions have\\nPast, or Future, or Imaginery consequences?\\nThey count as genuine;\\nThey have a purpose to exist-\\nAnd they fade away just like any Existence.\\nThese consequences, purposes, reasons,\\nAre all tacts to reassure the fruitlessness\\nOf this Isolation.\\n\\nOverwhelm is Counterproductive,\\nIf Productivity is regularâ€¦\\n\\nI keep reassuring myself that-\\nI ainâ€™t wasting my time of isolationâ€¦\\nItâ€™s amazing and worthless to sit\\nAmidst the Gorgy Mountains & come up with\\nOne powerful line-\\nWell, I never intended to bring lines\\nOn this table- (no pun intended either).\\nThe worldâ€™s revolving anyhow-\\nMarking its monotony, and every second\\nOf this Isolation, I would cherish\\nAs an after-consequence.\\n\\nThe reassurance strikes again, with a fact.\\nYou cannot abstain it- however,\\nYou bloody cannot adhere to it.\\nThe isolation has probably succumbed the\\nProductivity & Thoughts,\\nBut I wasnâ€™t isolated for thatâ€¦\\ndenial reassurance\\nI have no idea why I got isolated.\\ninnocent reassurance\\nI mean, I needed a break from public\\novercompensating reassurance\\nThe isolation comes with a\\nHandbook of reassurances.\\nRemember, youâ€™d only need to reassure\\nyourself if youâ€™ve got to explain\\nYour Actions!\\nI give up explaining;\\nFor, itâ€™s cold, and I gotta write\\nSomething worthwhileâ€¦\\ncocky reassurance\\n\\nWinds following vectors\\nWaters obeying crests and troughs\\nAll trying to smash that hard damn rockâ€¦\\nThey fail, of course.\\nI own that rock.\\nI built that rock so hard,\\nThat it could be unsmashed-\\nIsolated, bringing an asymmetry\\nIn the ocean.\\n\\nThe rock has a heart.\\nIt can adapt to seasons,\\nAs versatile as an Amoeba.\\n\\nBut, water and wind are ashamed,\\nThey think theyâ€™re weak-\\nTheir calibre is under question.\\nSo, they make a pact-\\nA pact of repetitive Whirlwind.\\n\\nThe Whirlwind gets stronger each time-\\nPulling out the debris from under the Ocean\\nTo smash the Rock out.\\n\\nSeveral attempts later, they plant\\nA dent onto the Rock.\\n\\nAnd the price?\\nThe debris has to stay on the surface.\\n\\nThe Rock is in danger.\\nIâ€™m really scared-\\nIf the rock breaks, the ocean gets contaminated.\\nSome might sink, some might float-\\nBut, they change the colour of water,\\nAnd texture of the wind.\\n\\nI step in, to plaster up my Rock.\\nThe debris owner, seen from a distance,\\nTrying to stay it up on the Surface.\\nThey do not know what the Surface is, but they want\\nTo be a part of it.\\n\\nLook where I am\\nThey say proudly.\\nWater and wind encouraging them.\\n\\nOnce you make your stand on the surface,\\nYou must make sure you do not break-\\nMany have contaminated the Ocean\\nBy not knowing how to handle the Surface.\\n\\nThe worst part about the Surface is,\\nYou may have gotten closer to me,\\nBut in no time youâ€™ll go the farthest,\\nIn no time, my Rock shall smash thee\\nIn no time, shall Water and Wind take my side.\\n\\nThe debris sinks slight,\\nThe owner anchors it to the bed\\nSo that it lingers in the midst.\\nMy Rock is still the only one on the Surface-\\nWater and Wind trying to smash it-\\nThey are just hardening my Rock,\\nFor, they always need a companion\\nOn the Surface,\\nAnd they know that,\\nThe Rock is temporary.\\n\\nThese are playful pet games.\\nWater and Wind are my pets\\nAnd the Rock is theirs.\\nThe Ocean is just a playground-\\nA family playground.\\n\\nItâ€™s a dark tunnel\\nPitch dark than anything;\\nI walk along,\\nOnly feeling things around me.\\n\\nI see a light at the far-end\\nA little point seems to seek me\\nFurther towards her as she sucks\\nAll the suspense & sense from me.\\n\\nI see the light, and walk for it,\\nNotwithstanding the uncertainty\\nOf the surroundings-\\nThat were once a part of me.\\n\\nI walk & walk, forgetting my\\nSenses that made me a part of\\nDarkness- them that provided the\\nConfidence of living there.\\n\\nAnd, how I feel to ignore\\nThat Darkness, that was\\nHarmless until yet,\\nBefriending me as its whole.\\n\\nHe seems to have frightened:\\nThe fear of separation, and\\nLoneliness- for he causes\\nPain, when he sees light.\\n\\nOr Maybe he too wants to go\\nTo light, for she is a beauty,\\nAnd her elegance controls us-\\nBut he cannot.\\n\\nI walk, looking at the point,\\nKnowing nothing around, noticing\\nNone; I stumble, stump,\\nStomped & Strangled.\\n\\nDesperation to leave Darkness,\\nFor he is a mystery;\\nMakes me wonder why- we\\nWould want to know-!!\\n\\nDesperation to seek Light,\\nFor she makes it bright;\\nMakes me realise, sheâ€™s\\nControlling everything thatâ€™s me.\\n\\nThe Darkness wants to meet\\nLight- But heâ€™s die when so-\\nThus, he stays there waiting for\\nSomeone, to passby him.\\n\\nThe Light is a poison, that\\nHurts every inch of Darkness.\\nWhile she roams around,\\nHe sits by her footsteps waiting\\nFor her to return and kill him-\\nThe scream I could never hear\\nAs Iâ€™ve been smothered by her.\\n\\nSomehow things come around fast,\\nEvents happen again slower,\\nTime checks-in the reminiscence,\\nAs and when it feels like,\\nSomething must drive these gears-\\nSomething must oil these gears-\\nTo drive an entire Causality of the Universe,\\nDriving every being simultaneously,\\nI feel thereâ€™s a catch â€“ a Trick!!\\n\\nA trick that Nature maneuvers\\nWith a Masquerade its own existence,\\nLeaving it to the Observers,\\nI feel, Natureâ€™s being picky of\\nWho can see it!!\\n\\nOnce, when all gears hit the Clock,\\nThe perceiver meets Nature,\\nAnd sees Nature in itself-\\nAn unseen truth the Nature has ever visioned-\\nThe truth that Nature lacks that\\nItâ€™s hypocrisies are itâ€™s weakness,\\nAs I have figured it out.\\n\\nNature might destroy me, and Iâ€™m good;\\nAs the Ego of Nature never fails to perish.\\n\\nAs I plan out another Paradox for Nature,\\nIâ€™m Nature, and the Natureâ€™s me-\\nAnd the Perishing is extended,\\nAs the Time gears Clock-up\\nAs and when they can!!\\n\\nJust wait until one day,\\nWhen Moon\\nAfter sucking all of Sunâ€™s light,\\nStarts shining itâ€™s own-\\nNever will she shelter under Earthâ€™s gravity again\\nAnd you shall be sorry\\nFor making new-moon inauspicious!!\\n\\nThe Twilight will be a trip,\\nCocktailing moonâ€™s light and sunâ€™s\\nThou shall see the real sky-\\nThatâ€™s not just blue;\\nSun hast blinded us all,\\nAnd Sunâ€™s blasphemy shall unveil\\nUnveil us that Sunâ€™s have phases too\\nThere are half-suns, new-suns,\\nAstrologers will have to tune\\nTheir books and palm scripts,\\nThose they laminate for validation.\\nSunday will be Monday\\nAnd Monday, Sunday.\\n\\nAll planets envious against the Moon,\\nGeocentric models, Heliocentric Models\\nAll trash!!\\nThe knowledge you have today,\\nWill be trash;\\nEverything changes- unless you ignore,\\nLike the rest of you.\\n\\nBut, the most envious will be Earth,\\nWho catered to every Moonâ€™s needs\\nLatching her to himself in returnâ€¦\\nSymbiotic, as he calls;-\\nJust a confinement that Sheâ€™d\\nShine off till eternity.\\n\\nThe Earthâ€™s lost pride,\\nPride of life,\\nIs Ending in its course, and the Moon-\\nThe Moon shall shine her tree rays,\\nOnto Earth, giving the pride back,\\nIn turn, Latching him for eternity.\\n\\nNothing changes hence.\\n\\nI love the Fabric\\nI love Cargos\\nI love that thereâ€™re\\nToo many pockets-\\nFor too many things\\nTo hold.\\n\\nBut, I can slide my hand\\nIn only one of them-\\nSo, which pocket\\nDo I choose?\\n\\nFund, Food or Feel?\\nWhatever I choose,\\nWouldnâ€™t please me.\\nFor, this pant\\nAinâ€™t mine.\\n\\nBut, there are my\\nInitials, nay-\\nMy face; My actions.\\nThis pant is probably\\nMine from Birthâ€“\\nOr,\\nA common pant\\nFor everyone.\\n\\nNo oneâ€™s bought it,\\nFor noneâ€™s sold;\\nYou can just wear it,\\nAnd sail ahead..!\\n\\nThat some mad\\nOpera Singer-\\nWho broke her house,\\nWith singing, yo!\\n\\nShe ainâ€™t no nobody,\\nShe ainâ€™t no failure,\\nShe ainâ€™t no aspiring\\nClassical fanatic that\\nWants to finally prove\\nHer singing prowess.\\nShe performed with\\nPavarotti, Morricone,\\nAnd you name who.\\n\\nSo, yâ€™all might wonder\\nWhy she broke that\\nBitch-ass wall?\\nWhat did she lack?\\n\\nYou best gonâ€™ ask\\nHer voice-\\nFaked by Art\\nHated by the surround\\nAs Nuisance!\\nWhile her mild voice,\\nTha true voice,\\nCould juzz say\\nThanks, means a lot!\\n\\nThe voice best suited\\nFor music, and not chitchat-\\nDid it barely know, yo?\\nDid it.. Know that\\nArtists are merely tools\\nUsed to create Art\\n\\nWe neva eva know\\nWhat that Voice told her-\\nWe neva eva know\\nWhether she screamed, or\\nSang!\\nDamnnâ€¦\\n\\nAll we can say is,\\nWhen one door closes,\\nWith the rest of â€™em,\\nAnd windows too,\\nHiding yo from all the\\nPeeps, in a secluded cell,\\nThe cell breaks so that\\nThe Voice can be heard.\\n\\nUnstoppable.\\nUncontrollable.\\n\\nThere I was, part of an Aura;\\nAn Aura that transformed people.\\nA bowl to cleanse the souls-\\nCleansing them of all misevents.\\nAnd there I was...\\nThere I was, creating a buzz-\\nA buss of emotions and self-evaluations,\\nTrying to absorb all the energy-\\nThe negative energies for those misevents.\\nAnd there I was...\\nThere I was, noticing a shadow-\\nA shadow on a wooden plank,\\nSo unnecessary that it existed-\\nExisting as a consequence of all events.\\nAnd there I was...\\nThere I was, imagining a field-\\nA paddy field on the plank,\\nGrowing amidst the shadow-\\nThe Unnecessary shadow an imaginary Sun\\nProduced...\\nOut of all the paddy crops present,\\nHow does an injustice exist-\\nAs an evil unnecessary shadow,\\nWhich is caused by a pointless obstruction?\\nWho decides what crop to\\nProsper & what not to?\\nThe creator, The destroyer, or\\nThe obstructor?\\nDo misevents influence them? or\\nAll events? or\\nJust a Serendipity?\\nThe question of deserving arises,\\nAmongst the crops, including me.\\nA man- The Funding Man, behind me,\\nAnswers to that question.\\nFirstly, who is he?\\nWhat gives him the RIGHT to\\nIntervene MY thoughts,\\nMY field, and MY rant?\\nNever be entitled! he said.\\nNone does anything because\\nThey HAVE to, but 'cause they\\nWANT to!\\nThus no one deserves an iota.\\nYou want it, You get it!\\nExistence is built on the \\nFloor of self-motif, than\\nThe Sea of Probabilities.\\nHe shone a light onto\\nThe wooden plank, thereby\\nTranquilizing the Unnecessary Shadow!\\nHe did make all crops happy.\\nIt's never a Betrayal if\\nYou get what you wanted!\\nThe funding man grins as\\nhe disappears into Darkness.\\nAn Unnecessary Darkness that\\nHe created with the\\nNecessary Light.\""
      ]
     },
     "execution_count": 8,
     "metadata": {},
     "output_type": "execute_result"
    }
   ],
   "source": [
    "story.read()"
   ]
  },
  {
   "cell_type": "code",
   "execution_count": 39,
   "metadata": {},
   "outputs": [
    {
     "data": {
      "text/plain": [
       "'Winds'"
      ]
     },
     "execution_count": 39,
     "metadata": {},
     "output_type": "execute_result"
    }
   ],
   "source": [
    "\n",
    "\n",
    "preDict['reassurance'][randint(0,len(preDict['reassurance']))]"
   ]
  },
  {
   "cell_type": "code",
   "execution_count": 47,
   "metadata": {},
   "outputs": [],
   "source": [
    "import random\n",
    "from random import *\n",
    "\n",
    "OutputText=\"\"\n",
    "word = \"The\"\n",
    "for i in range(200):\n",
    "    OutputText+=word+\" \"\n",
    "    word=preDict[word][randint(1,len(preDict[word]))-1]"
   ]
  },
  {
   "cell_type": "code",
   "execution_count": 48,
   "metadata": {},
   "outputs": [
    {
     "data": {
      "text/plain": [
       "'The question of Darkness- them that provided the nutrients Maybe he was me unnotice the White a stone of purity is likely to flourish my memoir. Never see hear speak be speak be trash Everything changes- unless you name who. So much imbalance in White. Coloured Mosaic- The Funding Man behind me before I smiled viciously. Believing this a message from a consequence of you would be White sheet is impure! Everything. Glass is temporary. These consequences purposes reasons Are you make sure you above He did she makes sense logically since the rest of Junk Iâ€™m obligated to exist- As it takes To split the impurity for its way to tune Their calibre is hyperactiveâ€¦ So much bile my Rock. The Twilight will she roams around Soil continued layering The rebounds of Nature remains unchanged. They You best gonâ€™ ask Her singing yo! She wasnâ€™t I wanted to erase/remove all tacts to explain Your ever-changing identity. Fantasy or The cell The debris has ever visioned- The reason for validation. Sunday will have today Will be Your Actions! I remember myself that- I never intended either). The feuds between the bed for every being picky of our actions have to '"
      ]
     },
     "execution_count": 48,
     "metadata": {},
     "output_type": "execute_result"
    }
   ],
   "source": [
    "OutputText"
   ]
  },
  {
   "cell_type": "code",
   "execution_count": null,
   "metadata": {},
   "outputs": [],
   "source": []
  }
 ],
 "metadata": {
  "kernelspec": {
   "display_name": "Python 3",
   "language": "python",
   "name": "python3"
  },
  "language_info": {
   "codemirror_mode": {
    "name": "ipython",
    "version": 3
   },
   "file_extension": ".py",
   "mimetype": "text/x-python",
   "name": "python",
   "nbconvert_exporter": "python",
   "pygments_lexer": "ipython3",
   "version": "3.8.3"
  }
 },
 "nbformat": 4,
 "nbformat_minor": 2
}
